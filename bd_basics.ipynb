{
  "nbformat": 4,
  "nbformat_minor": 0,
  "metadata": {
    "colab": {
      "provenance": [],
      "authorship_tag": "ABX9TyMqaQ5GsGkMKojBmgqNThMX"
    },
    "kernelspec": {
      "name": "python3",
      "display_name": "Python 3"
    },
    "language_info": {
      "name": "python"
    }
  },
  "cells": [
    {
      "cell_type": "code",
      "execution_count": null,
      "metadata": {
        "colab": {
          "base_uri": "https://localhost:8080/"
        },
        "id": "i_lxHfADuCEe",
        "outputId": "188c25c4-e279-46c9-8c68-4cbd82b1c35e"
      },
      "outputs": [
        {
          "output_type": "stream",
          "name": "stdout",
          "text": [
            "Requirement already satisfied: pyspark in /usr/local/lib/python3.10/dist-packages (3.5.3)\n",
            "Requirement already satisfied: py4j==0.10.9.7 in /usr/local/lib/python3.10/dist-packages (from pyspark) (0.10.9.7)\n"
          ]
        }
      ],
      "source": [
        "!pip install pyspark\n"
      ]
    },
    {
      "cell_type": "code",
      "source": [
        "from pyspark.sql import SparkSession\n",
        "from pyspark.sql.functions import col, when, sum, count, avg, desc, weekofyear, hour, explode, split\n"
      ],
      "metadata": {
        "id": "liybu3DCwEuc"
      },
      "execution_count": null,
      "outputs": []
    },
    {
      "cell_type": "code",
      "source": [
        "spark = SparkSession.builder \\\n",
        "    .appName(\"YelpDataAnalysis\") \\\n",
        "    .getOrCreate()\n"
      ],
      "metadata": {
        "id": "nryXvSsuwTZL"
      },
      "execution_count": null,
      "outputs": []
    },
    {
      "cell_type": "code",
      "source": [
        "business = spark.read.json(\"/content/bd_basics/data/yelp_academic_dataset_business.json\")\n",
        "#review = spark.read.json(\"\")\n",
        "#user = spark.read.json(\"\")\n",
        "checkin = spark.read.json(\"/content/bd_basics/data/yelp_academic_dataset_checkin.json\")\n",
        "tip = spark.read.json(\"/content/bd_basics/data/yelp_academic_dataset_tip.json\")\n"
      ],
      "metadata": {
        "id": "KwXWGg4z39sO"
      },
      "execution_count": null,
      "outputs": []
    },
    {
      "cell_type": "code",
      "source": [
        "#видалення пропусків\n",
        "business = business.dropna(subset=[\"business_id\", \"name\", \"categories\", \"hours\"])\n",
        "checkin = checkin.dropna(subset=[\"business_id\", \"date\"])\n",
        "tip = tip.dropna(subset=[\"business_id\", \"user_id\", \"text\"])"
      ],
      "metadata": {
        "id": "0HoGFxLqLSiR"
      },
      "execution_count": null,
      "outputs": []
    },
    {
      "cell_type": "code",
      "source": [
        "#видалення дублікатів\n",
        "business = business.dropDuplicates([\"business_id\"])\n",
        "checkin = checkin.dropDuplicates([\"business_id\"])\n",
        "tip = tip.dropDuplicates([\"business_id\", \"user_id\"])"
      ],
      "metadata": {
        "id": "H183mbVcLqqm"
      },
      "execution_count": null,
      "outputs": []
    },
    {
      "cell_type": "code",
      "source": [
        "from pyspark.sql.functions import col, trim\n",
        "\n",
        "#видалення зайвих пробілів\n",
        "business = business.withColumn(\"name\", trim(col(\"name\"))) \\\n",
        "                         .withColumn(\"categories\", trim(col(\"categories\")))\n",
        "tip = tip.withColumn(\"text\", trim(col(\"text\")))\n"
      ],
      "metadata": {
        "id": "P_dVy7c0LzVP"
      },
      "execution_count": null,
      "outputs": []
    },
    {
      "cell_type": "code",
      "source": [
        "checkin = checkin.withColumn(\"checkin_date\", explode(split(col(\"date\"), \", \")))\n",
        "\n",
        "result1 = business.join(checkin, \"business_id\", \"inner\") \\\n",
        "    .filter(business.categories.contains(\"Mexican\")) \\\n",
        "    .groupBy(\"business_id\", \"name\") \\\n",
        "    .count() \\\n",
        "    .filter(col(\"count\") > 50)\n",
        "\n",
        "result1.write.csv(\"result1.csv\", header=True)\n",
        "result1.show()"
      ],
      "metadata": {
        "id": "YI1HqBYtKrKg"
      },
      "execution_count": null,
      "outputs": []
    },
    {
      "cell_type": "code",
      "source": [
        "result2 = business \\\n",
        "    .filter(col(\"hours\").isNotNull()) \\\n",
        "    .filter(col(\"hours\").getItem(\"Saturday\").isNotNull()) \\\n",
        "    .groupBy(\"categories\", col(\"hours\").getItem(\"Saturday\").alias(\"Saturday\")) \\\n",
        "    .count() \\\n",
        "    .orderBy(desc(\"count\"))\n",
        "\n",
        "#result2.write.csv(\"result2.csv\", header=True)\n",
        "result2.show()"
      ],
      "metadata": {
        "id": "mkaM5H6OMuJf"
      },
      "execution_count": null,
      "outputs": []
    },
    {
      "cell_type": "code",
      "source": [
        "result3 = business.join(tip, \"business_id\", \"inner\") \\\n",
        "    .withColumn(\"category\", explode(split(col(\"categories\"), \", \"))) \\\n",
        "    .groupBy(\"category\") \\\n",
        "    .count() \\\n",
        "    .orderBy(desc(\"count\"))\n",
        "\n",
        "#result3.write.csv(\"result3.csv\", header=True)\n",
        "result3.show()\n"
      ],
      "metadata": {
        "id": "GJYWgRigM1Ts"
      },
      "execution_count": null,
      "outputs": []
    },
    {
      "cell_type": "code",
      "source": [
        "checkin_businesses = checkin.select(\"business_id\").distinct()\n",
        "tip_businesses = tip.select(\"business_id\").distinct()\n",
        "\n",
        "result4 = checkin_businesses.union(tip_businesses) \\\n",
        "    .groupBy(\"business_id\") \\\n",
        "    .count() \\\n",
        "    .orderBy(desc(\"count\"))\n",
        "\n",
        "#result4.write.csv(\"result4.csv\", header=True)\n",
        "result4.show()"
      ],
      "metadata": {
        "id": "GYnH01CiNDXB"
      },
      "execution_count": null,
      "outputs": []
    },
    {
      "cell_type": "code",
      "source": [
        "business_with_hours = business.withColumn(\"work_duration\",\n",
        "    (col(\"hours.Saturday\").substr(7, 2).cast(\"int\") - col(\"hours.Saturday\").substr(1, 2).cast(\"int\"))\n",
        ")\n",
        "\n",
        "result5 = business_with_hours.join(tip, \"business_id\", \"inner\") \\\n",
        "    .filter((col(\"work_duration\") > 10) & (col(\"compliment_count\") > 100))\n",
        "\n",
        "#result5.write.csv(\"result5.csv\", header=True)\n",
        "result5.show()"
      ],
      "metadata": {
        "id": "EYKnccmGNLMS"
      },
      "execution_count": null,
      "outputs": []
    },
    {
      "cell_type": "code",
      "source": [
        "result6 = business.filter(col(\"is_open\") == 1) \\\n",
        "    .groupBy(\"city\") \\\n",
        "    .count() \\\n",
        "    .orderBy(desc(\"count\"))\n",
        "\n",
        "#result6.write.csv(\"result6.csv\", header=True)\n",
        "result6.show()"
      ],
      "metadata": {
        "id": "WCOeCDr0NUQK"
      },
      "execution_count": null,
      "outputs": []
    },
    {
      "cell_type": "code",
      "source": [
        "result7 = business.withColumn(\"category\", explode(split(col(\"categories\"), \", \"))) \\\n",
        "    .groupBy(\"state\", \"category\") \\\n",
        "    .agg(count(\"business_id\").alias(\"business_count\")) \\\n",
        "    .orderBy(desc(\"business_count\"))\n",
        "\n",
        "#result7.write.csv(\"result7.csv\", header=True)\n",
        "result7.show()"
      ],
      "metadata": {
        "id": "VamGmO1ENb6A"
      },
      "execution_count": null,
      "outputs": []
    },
    {
      "cell_type": "code",
      "source": [
        "result8 = business.filter((col(\"city\") == \"San Francisco\") & (col(\"stars\") > 4.5))\n",
        "\n",
        "#result8.write.csv(\"result8.csv\", header=True)\n",
        "result8.show()"
      ],
      "metadata": {
        "id": "ENcv4NnMNm2R"
      },
      "execution_count": null,
      "outputs": []
    },
    {
      "cell_type": "code",
      "source": [
        "result9 = business.filter(col(\"categories\").contains(\"Burgers\")) \\\n",
        "    .orderBy(desc(\"review_count\"))\n",
        "\n",
        "#result9.write.csv(\"result9.csv\", header=True)\n",
        "result9.show()\n"
      ],
      "metadata": {
        "id": "vl6Od44LNt0N"
      },
      "execution_count": null,
      "outputs": []
    },
    {
      "cell_type": "code",
      "source": [
        "result10 = business \\\n",
        "    .filter(\n",
        "        (col(\"attributes\").getItem(\"BusinessParking\") == \"true\") &  # если это строка \"true\"\n",
        "        (col(\"stars\") > 4) &\n",
        "        ((col(\"hours\").getItem(\"Saturday\").isNotNull()) | (col(\"hours\").getItem(\"Sunday\").isNotNull()))\n",
        "    )\n",
        "\n",
        "#result10.write.csv(\"result10.csv\", header=True)\n",
        "result10.show()\n"
      ],
      "metadata": {
        "id": "QFDhaRYkNzXk"
      },
      "execution_count": null,
      "outputs": []
    }
  ]
}